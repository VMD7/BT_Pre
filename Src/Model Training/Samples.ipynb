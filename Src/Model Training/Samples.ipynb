{
 "cells": [
  {
   "cell_type": "code",
   "execution_count": 1,
   "metadata": {},
   "outputs": [],
   "source": [
    "import pickle\n",
    "import pandas as pd\n",
    "import nltk\n",
    "from nltk.corpus import stopwords\n",
    "from nltk.tokenize import punkt\n",
    "from nltk.corpus.reader import wordnet\n",
    "from nltk.stem import WordNetLemmatizer\n",
    "from sklearn.feature_extraction.text import TfidfVectorizer"
   ]
  },
  {
   "cell_type": "code",
   "execution_count": 49,
   "metadata": {},
   "outputs": [],
   "source": [
    "path_models = \"Models/\"\n",
    "\n",
    "# SVM\n",
    "path_svm = path_models + 'best_lrc.pickle'\n",
    "with open(path_svm, 'rb') as data:\n",
    "    svc_model = pickle.load(data)"
   ]
  },
  {
   "cell_type": "code",
   "execution_count": 50,
   "metadata": {},
   "outputs": [],
   "source": [
    "path_tfidf = \"D:/Projects/Blooms/Feature Engineering/Pickles/tfidf.pickle\"\n",
    "with open(path_tfidf, 'rb') as data:\n",
    "    tfidf = pickle.load(data)"
   ]
  },
  {
   "cell_type": "code",
   "execution_count": 51,
   "metadata": {},
   "outputs": [],
   "source": [
    "category_codes = {\n",
    "    'BT1': 0,\n",
    "    'BT2': 1,\n",
    "    'BT3': 2,\n",
    "    'BT4': 3,\n",
    "    'BT5': 4,\n",
    "    'BT6': 5\n",
    "}"
   ]
  },
  {
   "cell_type": "code",
   "execution_count": 52,
   "metadata": {},
   "outputs": [],
   "source": [
    "punctuation_signs = list(\"?:!.,;\")\n",
    "stop_words = list(stopwords.words('english'))\n",
    "\n",
    "def create_features_from_text(text):\n",
    "    \n",
    "    # Dataframe creation\n",
    "    lemmatized_text_list = []\n",
    "    df = pd.DataFrame(columns=['Questions'])\n",
    "    df.loc[0] = text\n",
    "    df['Questions_Parsed_1'] = df['Questions'].str.replace(\"\\r\", \" \")\n",
    "    df['Questions_Parsed_1'] = df['Questions_Parsed_1'].str.replace(\"\\n\", \" \")\n",
    "    df['Questions_Parsed_1'] = df['Questions_Parsed_1'].str.replace(\"    \", \" \")\n",
    "    df['Questions_Parsed_1'] = df['Questions_Parsed_1'].str.replace('\"', '')\n",
    "    df['Questions_Parsed_2'] = df['Questions_Parsed_1'].str.lower()\n",
    "    df['Questions_Parsed_3'] = df['Questions_Parsed_2']\n",
    "    for punct_sign in punctuation_signs:\n",
    "        df['Questions_Parsed_3'] = df['Questions_Parsed_3'].str.replace(punct_sign, '')\n",
    "    df['Questions_Parsed_4'] = df['Questions_Parsed_3'].str.replace(\"'s\", \"\")\n",
    "    wordnet_lemmatizer = WordNetLemmatizer()\n",
    "    lemmatized_list = []\n",
    "    text = df.loc[0]['Questions_Parsed_4']\n",
    "    text_words = text.split(\" \")\n",
    "    for word in text_words:\n",
    "        lemmatized_list.append(wordnet_lemmatizer.lemmatize(word, pos=\"v\"))\n",
    "    lemmatized_text = \" \".join(lemmatized_list)    \n",
    "    lemmatized_text_list.append(lemmatized_text)\n",
    "    df['Questions_Parsed_5'] = lemmatized_text_list\n",
    "    df['Questions_Parsed_6'] = df['Questions_Parsed_5']\n",
    "    for stop_word in stop_words:\n",
    "        regex_stopword = r\"\\b\" + stop_word + r\"\\b\"\n",
    "        df['Questions_Parsed_6'] = df['Questions_Parsed_6'].str.replace(regex_stopword, '')\n",
    "    df = df['Questions_Parsed_6']\n",
    "    df = df.rename({'Questions_Parsed_6': 'Questions_Parsed'})\n",
    "    \n",
    "    # TF-IDF\n",
    "    features = tfidf.transform(df).toarray()\n",
    "    \n",
    "    return features"
   ]
  },
  {
   "cell_type": "code",
   "execution_count": 53,
   "metadata": {},
   "outputs": [],
   "source": [
    "def get_category_name(category_id):\n",
    "    for category, id_ in category_codes.items():    \n",
    "        if id_ == category_id:\n",
    "            return category"
   ]
  },
  {
   "cell_type": "code",
   "execution_count": 54,
   "metadata": {},
   "outputs": [],
   "source": [
    "def predict_from_text(text):\n",
    "    \n",
    "    # Predict using the input model\n",
    "    prediction_svc = svc_model.predict(create_features_from_text(text))[0]\n",
    "    prediction_svc_proba = svc_model.predict_proba(create_features_from_text(text))[0]\n",
    "    \n",
    "    # Return result\n",
    "    category_svc = get_category_name(prediction_svc)\n",
    "    \n",
    "    print(\"The predicted category using the SVM model is %s.\" %(category_svc) )\n",
    "    print(\"The conditional probability is: %a\" %(prediction_svc_proba.max()*100))"
   ]
  },
  {
   "cell_type": "code",
   "execution_count": 55,
   "metadata": {},
   "outputs": [],
   "source": [
    "text = \"\"\"what is your name\"\"\""
   ]
  },
  {
   "cell_type": "code",
   "execution_count": 56,
   "metadata": {},
   "outputs": [
    {
     "name": "stdout",
     "output_type": "stream",
     "text": [
      "The predicted category using the SVM model is BT1.\n",
      "The conditional probability is: 70.68340198186802\n"
     ]
    }
   ],
   "source": [
    "predict_from_text(text)"
   ]
  },
  {
   "cell_type": "code",
   "execution_count": null,
   "metadata": {},
   "outputs": [],
   "source": []
  },
  {
   "cell_type": "code",
   "execution_count": null,
   "metadata": {},
   "outputs": [],
   "source": []
  }
 ],
 "metadata": {
  "kernelspec": {
   "display_name": "Python 3",
   "language": "python",
   "name": "python3"
  },
  "language_info": {
   "codemirror_mode": {
    "name": "ipython",
    "version": 3
   },
   "file_extension": ".py",
   "mimetype": "text/x-python",
   "name": "python",
   "nbconvert_exporter": "python",
   "pygments_lexer": "ipython3",
   "version": "3.7.7"
  }
 },
 "nbformat": 4,
 "nbformat_minor": 4
}
